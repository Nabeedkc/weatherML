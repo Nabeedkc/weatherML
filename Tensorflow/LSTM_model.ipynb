{
  "nbformat": 4,
  "nbformat_minor": 0,
  "metadata": {
    "colab": {
      "name": "ML Model.ipynb",
      "provenance": [],
      "collapsed_sections": []
    },
    "kernelspec": {
      "name": "python3",
      "display_name": "Python 3"
    },
    "accelerator": "GPU"
  },
  "cells": [
    {
      "cell_type": "code",
      "metadata": {
        "colab_type": "code",
        "id": "UOyfIAJECUKy",
        "colab": {}
      },
      "source": [
        "# #Download sample datset from keras\n",
        "# !rm -rf *\n",
        "# !wget https://storage.googleapis.com/tensorflow/tf-keras-datasets/jena_climate_2009_2016.csv.zip -O weather.zip\n",
        "# !unzip weather.zip\n",
        "# !rm weather.zip\n",
        "# !mv jena_climate_2009_2016.csv weather.csv\n",
        "# clear_output()\n",
        "!nvidia-smi"
      ],
      "execution_count": 0,
      "outputs": []
    },
    {
      "cell_type": "code",
      "metadata": {
        "id": "1Rfc5kuanS02",
        "colab_type": "code",
        "colab": {}
      },
      "source": [
        "from IPython.display import clear_output\n",
        "!rm -rf *\n",
        "!wget https://github.com/PvtSec/weatherML/raw/84eedf65cd5a4e2e089464a50e0b4c01d06fc719/Dataset/Delhi-Hourly/clean2.csv -O weather_data.csv\n",
        "!clear\n",
        "clear_output()"
      ],
      "execution_count": 0,
      "outputs": []
    },
    {
      "cell_type": "code",
      "metadata": {
        "id": "qjp8Hz04QGj3",
        "colab_type": "code",
        "colab": {}
      },
      "source": [
        "import pandas as pd\n",
        "import numpy as np\n",
        "import matplotlib.pyplot as plt\n",
        "%tensorflow_version 2.x\n",
        "import tensorflow as tf\n",
        "from pylab import rcParams\n",
        "from scipy.ndimage.filters import gaussian_filter1d\n",
        "\n",
        "rcParams['figure.figsize'] = 20, 7"
      ],
      "execution_count": 0,
      "outputs": []
    },
    {
      "cell_type": "code",
      "metadata": {
        "id": "fhtklwty9B2q",
        "colab_type": "code",
        "colab": {}
      },
      "source": [
        "data = pd.read_csv(\"weather_data.csv\")\n",
        "data.head()"
      ],
      "execution_count": 0,
      "outputs": []
    },
    {
      "cell_type": "code",
      "metadata": {
        "id": "VXzUDBD1-oPa",
        "colab_type": "code",
        "colab": {}
      },
      "source": [
        "temp_data = data['temperature']\n",
        "temp_data.index = data['Index']\n",
        "plt.plot(temp_data[29990:30001])"
      ],
      "execution_count": 0,
      "outputs": []
    },
    {
      "cell_type": "code",
      "metadata": {
        "id": "OWe1eyfBARRC",
        "colab_type": "code",
        "colab": {}
      },
      "source": [
        "#Split the dataset and get mean, standard deviation, and then standardize the temperature data\n",
        "\n",
        "split = 30000\n",
        "temp_data = temp_data.values\n",
        "\n",
        "temp_mean = temp_data[:split].mean()\n",
        "temp_stdv = temp_data[:split].std()\n",
        "temp_std = (temp_data - temp_mean) / temp_stdv\n"
      ],
      "execution_count": 0,
      "outputs": []
    },
    {
      "cell_type": "code",
      "metadata": {
        "id": "fjghEcTcCpzt",
        "colab_type": "code",
        "colab": {}
      },
      "source": [
        "past_data = 29000\n",
        "target_data = 0\n",
        "\n",
        "data = []\n",
        "labels = []\n",
        "\n",
        "start_index = 0 + past_data\n",
        "end_index = split\n",
        "\n",
        "for i in range(start_index, end_index):\n",
        "  index = range(i-past_data, i)\n",
        "  data.append(np.reshape(temp_std[index], (past_data, 1)))\n",
        "  labels.append(temp_std[i+target_data])\n",
        "x,y = np.array(data), np.array(labels)"
      ],
      "execution_count": 0,
      "outputs": []
    },
    {
      "cell_type": "code",
      "metadata": {
        "id": "Z4NuERaA8BCb",
        "colab_type": "code",
        "colab": {}
      },
      "source": [
        "def create_time_steps(length):\n",
        "  return list(range(-length, 0))"
      ],
      "execution_count": 0,
      "outputs": []
    },
    {
      "cell_type": "code",
      "metadata": {
        "id": "Z-DJplWSJkv4",
        "colab_type": "code",
        "colab": {}
      },
      "source": [
        "plot_data = [x[0],y[0]]\n",
        "delta = 0\n",
        "labels = ['Previous data', 'Next Real Data', 'Model Prediction']\n",
        "marker = ['.-', 'rx', 'go']\n",
        "time_steps = create_time_steps(plot_data[0].shape[0])\n",
        "if delta:\n",
        "  future = delta\n",
        "else:\n",
        "  future = 0\n",
        "\n",
        "plt.title(\"Sample Example\")\n",
        "\n",
        "for i, xe in enumerate(plot_data):\n",
        "  if i:\n",
        "    plt.plot(future, plot_data[i], marker[i], markersize=10, label=labels[i])\n",
        "  else:\n",
        "    plt.plot(time_steps, plot_data[i].flatten(), marker[i], label=labels[i])\n",
        "plt.legend()\n",
        "plt.xlim([time_steps[0], (future+5)*2])\n",
        "plt.xlabel('Time-Step')\n",
        "#View the last point if previous data and the next real data : convert back to original value\n",
        "#print(((plot_data[0].flatten()[19])*temp_stdv) + temp_mean)\n",
        "#print(((plot_data[1])*temp_stdv) + temp_mean)"
      ],
      "execution_count": 0,
      "outputs": []
    },
    {
      "cell_type": "code",
      "metadata": {
        "id": "aVFiccC61PiT",
        "colab_type": "code",
        "colab": {}
      },
      "source": [
        "train_univariate = tf.data.Dataset.from_tensor_slices((x, y))\n",
        "train_univariate = train_univariate.cache().shuffle(256).batch(10000).repeat()\n",
        "val_univariate = tf.data.Dataset.from_tensor_slices((x, y))\n",
        "val_univariate = val_univariate.batch(256).repeat()\n",
        "\n",
        "lstm = tf.keras.models.Sequential([tf.keras.layers.LSTM(8, input_shape=x.shape[-2:]), tf.keras.layers.Dense(1)])\n",
        "lstm.compile(optimizer='adam', loss='mae')"
      ],
      "execution_count": 0,
      "outputs": []
    },
    {
      "cell_type": "code",
      "metadata": {
        "id": "O1DydsoW3Z1V",
        "colab_type": "code",
        "colab": {}
      },
      "source": [
        "EVALUATION_INTERVAL = 50\n",
        "EPOCHS = 5\n",
        "\n",
        "lstm.fit(train_univariate, epochs=EPOCHS, steps_per_epoch=EVALUATION_INTERVAL, validation_data=val_univariate, validation_steps=50)"
      ],
      "execution_count": 0,
      "outputs": []
    },
    {
      "cell_type": "code",
      "metadata": {
        "id": "WUzv_bdS3lBl",
        "colab_type": "code",
        "colab": {}
      },
      "source": [
        "for xx, yy in val_univariate.take(1):\n",
        "  plot_data = [xx[0].numpy(), yy[0].numpy(), lstm.predict(xx)[0]]\n",
        "  delta = 0\n",
        "  labels = ['Previous values', 'Next Real value', 'Predicted value']\n",
        "  marker = ['.-', 'rx', 'go']\n",
        "  time_steps = create_time_steps(plot_data[0].shape[0])\n",
        "  tymstp = time_steps\n",
        "  if delta:\n",
        "    future = delta\n",
        "  else:\n",
        "    future = 0\n",
        "  flatend_data = plot_data[0].flatten()"
      ],
      "execution_count": 0,
      "outputs": []
    },
    {
      "cell_type": "code",
      "metadata": {
        "id": "3l9XNZ5ziCTL",
        "colab_type": "code",
        "colab": {}
      },
      "source": [
        "# rcParams['figure.figsize'] = 80, 20\n",
        "# ysmoothed = gaussian_filter1d(flatend_data, sigma=2)\n",
        "\n",
        "# plt.title(\"LSTM Model\")\n",
        "# plt.plot(tymstp[0:], ysmoothed, marker[0], label=labels[0])\n",
        "# plt.plot(future, plot_data[1], marker[1], markersize=10, label=labels[1])\n",
        "# plt.plot(future, plot_data[2], marker[2], markersize=10, label=labels[2])  \n",
        "# plt.legend()\n",
        "# plt.xlim([time_steps[0], (future+5)*2])\n",
        "# plt.xlabel('Time-Step')"
      ],
      "execution_count": 0,
      "outputs": []
    },
    {
      "cell_type": "code",
      "metadata": {
        "id": "cij_KvWboe3O",
        "colab_type": "code",
        "colab": {}
      },
      "source": [
        "past=-10\n",
        "ysmoothed = gaussian_filter1d(flatend_data, sigma=2)\n",
        "\n",
        "xpoint = tymstp[past:]\n",
        "ypoint = flatend_data[past:]\n",
        "ysmoot = ysmoothed[past:]\n",
        "plt.plot(xpoint,ypoint)\n",
        "plt.plot(future, plot_data[1], marker[1], markersize=10, label=labels[1])\n",
        "plt.plot(future, plot_data[2], marker[2], markersize=10, label=labels[2])"
      ],
      "execution_count": 0,
      "outputs": []
    },
    {
      "cell_type": "code",
      "metadata": {
        "id": "C4RpzdTMXXvB",
        "colab_type": "code",
        "colab": {}
      },
      "source": [
        "std_real_future = plot_data[1]\n",
        "std_pred_future = plot_data[2][0]\n",
        "#convert standardized value back to temperature\n",
        "actual = abs((std_real_future * temp_stdv)+temp_mean)\n",
        "predicted = abs((std_pred_future * temp_stdv)+temp_mean)\n",
        "error = abs(round(((actual - predicted) / actual)*100,2))\n",
        "print(\"Actual    :\",round(actual,2),\"°C\")\n",
        "print(\"Predicted :\",round(predicted,2),\"°C\")\n",
        "print(\"Error     :\",error,\"%\")"
      ],
      "execution_count": 0,
      "outputs": []
    },
    {
      "cell_type": "code",
      "metadata": {
        "id": "5nFh7MAYX29w",
        "colab_type": "code",
        "colab": {}
      },
      "source": [
        "import tempfile\n",
        "import os\n",
        "\n",
        "MODEL_DIR = \"/content/\"\n",
        "version = 1\n",
        "export_path = os.path.join(MODEL_DIR, str(version))\n",
        "print('export_path = {}\\n'.format(export_path))\n",
        "\n",
        "tf.keras.models.save_model(\n",
        "    lstm,\n",
        "    export_path,\n",
        "    overwrite=True,\n",
        "    include_optimizer=True,\n",
        "    save_format=None,\n",
        "    signatures=None,\n",
        "    options=None\n",
        ")\n",
        "\n",
        "print('\\nSaved model:')\n",
        "!ls -l {export_path}"
      ],
      "execution_count": 0,
      "outputs": []
    },
    {
      "cell_type": "code",
      "metadata": {
        "id": "nZRV6KIIRyIJ",
        "colab_type": "code",
        "colab": {}
      },
      "source": [
        "!rm -rf 1\n",
        "!zip model_4.zip 1/*"
      ],
      "execution_count": 0,
      "outputs": []
    }
  ]
}